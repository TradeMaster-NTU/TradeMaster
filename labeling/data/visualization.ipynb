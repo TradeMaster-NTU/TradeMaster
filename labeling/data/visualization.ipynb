{
 "cells": [
  {
   "cell_type": "code",
   "execution_count": 18,
   "metadata": {},
   "outputs": [],
   "source": [
    "import pandas as pd\n",
    "import matplotlib.pyplot as plt\n",
    "import matplotlib.dates as mdates"
   ]
  },
  {
   "cell_type": "code",
   "execution_count": 3,
   "metadata": {
    "collapsed": true
   },
   "outputs": [],
   "source": [
    "recession=pd.read_csv('USRECD.csv')"
   ]
  },
  {
   "cell_type": "code",
   "execution_count": 4,
   "metadata": {},
   "outputs": [
    {
     "data": {
      "text/html": [
       "<div>\n",
       "<style scoped>\n",
       "    .dataframe tbody tr th:only-of-type {\n",
       "        vertical-align: middle;\n",
       "    }\n",
       "\n",
       "    .dataframe tbody tr th {\n",
       "        vertical-align: top;\n",
       "    }\n",
       "\n",
       "    .dataframe thead th {\n",
       "        text-align: right;\n",
       "    }\n",
       "</style>\n",
       "<table border=\"1\" class=\"dataframe\">\n",
       "  <thead>\n",
       "    <tr style=\"text-align: right;\">\n",
       "      <th></th>\n",
       "      <th>DATE</th>\n",
       "      <th>USRECD</th>\n",
       "    </tr>\n",
       "  </thead>\n",
       "  <tbody>\n",
       "    <tr>\n",
       "      <th>0</th>\n",
       "      <td>1990-01-01</td>\n",
       "      <td>0</td>\n",
       "    </tr>\n",
       "    <tr>\n",
       "      <th>1</th>\n",
       "      <td>1990-01-02</td>\n",
       "      <td>0</td>\n",
       "    </tr>\n",
       "    <tr>\n",
       "      <th>2</th>\n",
       "      <td>1990-01-03</td>\n",
       "      <td>0</td>\n",
       "    </tr>\n",
       "    <tr>\n",
       "      <th>3</th>\n",
       "      <td>1990-01-04</td>\n",
       "      <td>0</td>\n",
       "    </tr>\n",
       "    <tr>\n",
       "      <th>4</th>\n",
       "      <td>1990-01-05</td>\n",
       "      <td>0</td>\n",
       "    </tr>\n",
       "  </tbody>\n",
       "</table>\n",
       "</div>"
      ],
      "text/plain": [
       "         DATE  USRECD\n",
       "0  1990-01-01       0\n",
       "1  1990-01-02       0\n",
       "2  1990-01-03       0\n",
       "3  1990-01-04       0\n",
       "4  1990-01-05       0"
      ]
     },
     "execution_count": 4,
     "metadata": {},
     "output_type": "execute_result"
    }
   ],
   "source": [
    "recession.head(5)"
   ]
  },
  {
   "cell_type": "code",
   "execution_count": 5,
   "metadata": {},
   "outputs": [],
   "source": [
    "SP500=pd.read_csv('S&P500.csv')"
   ]
  },
  {
   "cell_type": "code",
   "execution_count": 6,
   "metadata": {},
   "outputs": [
    {
     "data": {
      "text/html": [
       "<div>\n",
       "<style scoped>\n",
       "    .dataframe tbody tr th:only-of-type {\n",
       "        vertical-align: middle;\n",
       "    }\n",
       "\n",
       "    .dataframe tbody tr th {\n",
       "        vertical-align: top;\n",
       "    }\n",
       "\n",
       "    .dataframe thead th {\n",
       "        text-align: right;\n",
       "    }\n",
       "</style>\n",
       "<table border=\"1\" class=\"dataframe\">\n",
       "  <thead>\n",
       "    <tr style=\"text-align: right;\">\n",
       "      <th></th>\n",
       "      <th>Date</th>\n",
       "      <th>Open</th>\n",
       "      <th>High</th>\n",
       "      <th>Low</th>\n",
       "      <th>Close</th>\n",
       "      <th>Adj Close</th>\n",
       "      <th>Volume</th>\n",
       "    </tr>\n",
       "  </thead>\n",
       "  <tbody>\n",
       "    <tr>\n",
       "      <th>0</th>\n",
       "      <td>1990-01-02</td>\n",
       "      <td>353.399994</td>\n",
       "      <td>359.690002</td>\n",
       "      <td>351.980011</td>\n",
       "      <td>359.690002</td>\n",
       "      <td>359.690002</td>\n",
       "      <td>162070000</td>\n",
       "    </tr>\n",
       "    <tr>\n",
       "      <th>1</th>\n",
       "      <td>1990-01-03</td>\n",
       "      <td>359.690002</td>\n",
       "      <td>360.589996</td>\n",
       "      <td>357.890015</td>\n",
       "      <td>358.760010</td>\n",
       "      <td>358.760010</td>\n",
       "      <td>192330000</td>\n",
       "    </tr>\n",
       "    <tr>\n",
       "      <th>2</th>\n",
       "      <td>1990-01-04</td>\n",
       "      <td>358.760010</td>\n",
       "      <td>358.760010</td>\n",
       "      <td>352.890015</td>\n",
       "      <td>355.670013</td>\n",
       "      <td>355.670013</td>\n",
       "      <td>177000000</td>\n",
       "    </tr>\n",
       "    <tr>\n",
       "      <th>3</th>\n",
       "      <td>1990-01-05</td>\n",
       "      <td>355.670013</td>\n",
       "      <td>355.670013</td>\n",
       "      <td>351.350006</td>\n",
       "      <td>352.200012</td>\n",
       "      <td>352.200012</td>\n",
       "      <td>158530000</td>\n",
       "    </tr>\n",
       "    <tr>\n",
       "      <th>4</th>\n",
       "      <td>1990-01-08</td>\n",
       "      <td>352.200012</td>\n",
       "      <td>354.239990</td>\n",
       "      <td>350.540009</td>\n",
       "      <td>353.790009</td>\n",
       "      <td>353.790009</td>\n",
       "      <td>140110000</td>\n",
       "    </tr>\n",
       "  </tbody>\n",
       "</table>\n",
       "</div>"
      ],
      "text/plain": [
       "         Date        Open        High         Low       Close   Adj Close  \\\n",
       "0  1990-01-02  353.399994  359.690002  351.980011  359.690002  359.690002   \n",
       "1  1990-01-03  359.690002  360.589996  357.890015  358.760010  358.760010   \n",
       "2  1990-01-04  358.760010  358.760010  352.890015  355.670013  355.670013   \n",
       "3  1990-01-05  355.670013  355.670013  351.350006  352.200012  352.200012   \n",
       "4  1990-01-08  352.200012  354.239990  350.540009  353.790009  353.790009   \n",
       "\n",
       "      Volume  \n",
       "0  162070000  \n",
       "1  192330000  \n",
       "2  177000000  \n",
       "3  158530000  \n",
       "4  140110000  "
      ]
     },
     "execution_count": 6,
     "metadata": {},
     "output_type": "execute_result"
    }
   ],
   "source": [
    "SP500.head(5)"
   ]
  },
  {
   "cell_type": "code",
   "execution_count": 7,
   "metadata": {},
   "outputs": [],
   "source": [
    "volatility=pd.read_csv('DDSM01USA066NWDB.csv')"
   ]
  },
  {
   "cell_type": "code",
   "execution_count": 46,
   "metadata": {},
   "outputs": [
    {
     "data": {
      "text/plain": [
       "(31, 2)"
      ]
     },
     "execution_count": 46,
     "metadata": {},
     "output_type": "execute_result"
    }
   ],
   "source": [
    "volatility.head(5)\n",
    "volatility.shape\n",
    "# volatility.columns"
   ]
  },
  {
   "cell_type": "code",
   "execution_count": 9,
   "metadata": {},
   "outputs": [],
   "source": [
    "SP500_adjclose=SP500.loc[:,['Date','Adj Close']]"
   ]
  },
  {
   "cell_type": "code",
   "execution_count": 10,
   "metadata": {},
   "outputs": [
    {
     "data": {
      "text/html": [
       "<div>\n",
       "<style scoped>\n",
       "    .dataframe tbody tr th:only-of-type {\n",
       "        vertical-align: middle;\n",
       "    }\n",
       "\n",
       "    .dataframe tbody tr th {\n",
       "        vertical-align: top;\n",
       "    }\n",
       "\n",
       "    .dataframe thead th {\n",
       "        text-align: right;\n",
       "    }\n",
       "</style>\n",
       "<table border=\"1\" class=\"dataframe\">\n",
       "  <thead>\n",
       "    <tr style=\"text-align: right;\">\n",
       "      <th></th>\n",
       "      <th>Date</th>\n",
       "      <th>Adj Close</th>\n",
       "    </tr>\n",
       "  </thead>\n",
       "  <tbody>\n",
       "    <tr>\n",
       "      <th>0</th>\n",
       "      <td>1990-01-02</td>\n",
       "      <td>359.690002</td>\n",
       "    </tr>\n",
       "    <tr>\n",
       "      <th>1</th>\n",
       "      <td>1990-01-03</td>\n",
       "      <td>358.760010</td>\n",
       "    </tr>\n",
       "    <tr>\n",
       "      <th>2</th>\n",
       "      <td>1990-01-04</td>\n",
       "      <td>355.670013</td>\n",
       "    </tr>\n",
       "    <tr>\n",
       "      <th>3</th>\n",
       "      <td>1990-01-05</td>\n",
       "      <td>352.200012</td>\n",
       "    </tr>\n",
       "    <tr>\n",
       "      <th>4</th>\n",
       "      <td>1990-01-08</td>\n",
       "      <td>353.790009</td>\n",
       "    </tr>\n",
       "  </tbody>\n",
       "</table>\n",
       "</div>"
      ],
      "text/plain": [
       "         Date   Adj Close\n",
       "0  1990-01-02  359.690002\n",
       "1  1990-01-03  358.760010\n",
       "2  1990-01-04  355.670013\n",
       "3  1990-01-05  352.200012\n",
       "4  1990-01-08  353.790009"
      ]
     },
     "execution_count": 10,
     "metadata": {},
     "output_type": "execute_result"
    }
   ],
   "source": [
    "SP500_adjclose.head()"
   ]
  },
  {
   "cell_type": "code",
   "execution_count": 21,
   "metadata": {},
   "outputs": [],
   "source": [
    "SP500_adjclose=SP500_adjclose.merge(recession,left_on='Date',right_on='DATE')"
   ]
  },
  {
   "cell_type": "code",
   "execution_count": 47,
   "metadata": {},
   "outputs": [
    {
     "name": "stderr",
     "output_type": "stream",
     "text": [
      "Locator attempting to generate 8870 ticks ([-403.0, ..., 8466.0]), which exceeds Locator.MAXTICKS (1000).\n",
      "Locator attempting to generate 8870 ticks ([-403.0, ..., 8466.0]), which exceeds Locator.MAXTICKS (1000).\n",
      "Locator attempting to generate 8870 ticks ([-403.0, ..., 8466.0]), which exceeds Locator.MAXTICKS (1000).\n",
      "Locator attempting to generate 8870 ticks ([-403.0, ..., 8466.0]), which exceeds Locator.MAXTICKS (1000).\n",
      "Locator attempting to generate 8870 ticks ([-403.0, ..., 8466.0]), which exceeds Locator.MAXTICKS (1000).\n",
      "Locator attempting to generate 8870 ticks ([-403.0, ..., 8466.0]), which exceeds Locator.MAXTICKS (1000).\n",
      "Locator attempting to generate 8870 ticks ([-403.0, ..., 8466.0]), which exceeds Locator.MAXTICKS (1000).\n",
      "Locator attempting to generate 8870 ticks ([-403.0, ..., 8466.0]), which exceeds Locator.MAXTICKS (1000).\n",
      "Locator attempting to generate 8870 ticks ([-403.0, ..., 8466.0]), which exceeds Locator.MAXTICKS (1000).\n",
      "Locator attempting to generate 8870 ticks ([-403.0, ..., 8466.0]), which exceeds Locator.MAXTICKS (1000).\n",
      "Locator attempting to generate 8870 ticks ([-403.0, ..., 8466.0]), which exceeds Locator.MAXTICKS (1000).\n",
      "Locator attempting to generate 8870 ticks ([-403.0, ..., 8466.0]), which exceeds Locator.MAXTICKS (1000).\n",
      "Locator attempting to generate 8870 ticks ([-403.0, ..., 8466.0]), which exceeds Locator.MAXTICKS (1000).\n",
      "Locator attempting to generate 8870 ticks ([-403.0, ..., 8466.0]), which exceeds Locator.MAXTICKS (1000).\n",
      "Locator attempting to generate 8870 ticks ([-403.0, ..., 8466.0]), which exceeds Locator.MAXTICKS (1000).\n",
      "Locator attempting to generate 8870 ticks ([-403.0, ..., 8466.0]), which exceeds Locator.MAXTICKS (1000).\n",
      "Locator attempting to generate 8870 ticks ([-403.0, ..., 8466.0]), which exceeds Locator.MAXTICKS (1000).\n",
      "Locator attempting to generate 8870 ticks ([-403.0, ..., 8466.0]), which exceeds Locator.MAXTICKS (1000).\n",
      "Locator attempting to generate 8870 ticks ([-403.0, ..., 8466.0]), which exceeds Locator.MAXTICKS (1000).\n",
      "Locator attempting to generate 8870 ticks ([-403.0, ..., 8466.0]), which exceeds Locator.MAXTICKS (1000).\n",
      "Locator attempting to generate 8870 ticks ([-403.0, ..., 8466.0]), which exceeds Locator.MAXTICKS (1000).\n",
      "Locator attempting to generate 8870 ticks ([-403.0, ..., 8466.0]), which exceeds Locator.MAXTICKS (1000).\n",
      "Locator attempting to generate 8870 ticks ([-403.0, ..., 8466.0]), which exceeds Locator.MAXTICKS (1000).\n",
      "Locator attempting to generate 8870 ticks ([-403.0, ..., 8466.0]), which exceeds Locator.MAXTICKS (1000).\n",
      "Locator attempting to generate 8870 ticks ([-403.0, ..., 8466.0]), which exceeds Locator.MAXTICKS (1000).\n",
      "Locator attempting to generate 8870 ticks ([-403.0, ..., 8466.0]), which exceeds Locator.MAXTICKS (1000).\n",
      "Locator attempting to generate 8870 ticks ([-403.0, ..., 8466.0]), which exceeds Locator.MAXTICKS (1000).\n",
      "Locator attempting to generate 8870 ticks ([-403.0, ..., 8466.0]), which exceeds Locator.MAXTICKS (1000).\n",
      "Locator attempting to generate 8870 ticks ([-403.0, ..., 8466.0]), which exceeds Locator.MAXTICKS (1000).\n",
      "Locator attempting to generate 8870 ticks ([-403.0, ..., 8466.0]), which exceeds Locator.MAXTICKS (1000).\n",
      "Locator attempting to generate 8870 ticks ([-403.0, ..., 8466.0]), which exceeds Locator.MAXTICKS (1000).\n",
      "Locator attempting to generate 8870 ticks ([-403.0, ..., 8466.0]), which exceeds Locator.MAXTICKS (1000).\n",
      "Locator attempting to generate 8870 ticks ([-403.0, ..., 8466.0]), which exceeds Locator.MAXTICKS (1000).\n",
      "Locator attempting to generate 8870 ticks ([-403.0, ..., 8466.0]), which exceeds Locator.MAXTICKS (1000).\n",
      "Locator attempting to generate 8870 ticks ([-403.0, ..., 8466.0]), which exceeds Locator.MAXTICKS (1000).\n",
      "Locator attempting to generate 8870 ticks ([-403.0, ..., 8466.0]), which exceeds Locator.MAXTICKS (1000).\n",
      "Locator attempting to generate 8870 ticks ([-403.0, ..., 8466.0]), which exceeds Locator.MAXTICKS (1000).\n",
      "Locator attempting to generate 8870 ticks ([-403.0, ..., 8466.0]), which exceeds Locator.MAXTICKS (1000).\n",
      "Locator attempting to generate 8870 ticks ([-403.0, ..., 8466.0]), which exceeds Locator.MAXTICKS (1000).\n",
      "Locator attempting to generate 8870 ticks ([-403.0, ..., 8466.0]), which exceeds Locator.MAXTICKS (1000).\n",
      "Locator attempting to generate 8870 ticks ([-403.0, ..., 8466.0]), which exceeds Locator.MAXTICKS (1000).\n",
      "Locator attempting to generate 8870 ticks ([-403.0, ..., 8466.0]), which exceeds Locator.MAXTICKS (1000).\n",
      "Locator attempting to generate 8870 ticks ([-403.0, ..., 8466.0]), which exceeds Locator.MAXTICKS (1000).\n",
      "Locator attempting to generate 8870 ticks ([-403.0, ..., 8466.0]), which exceeds Locator.MAXTICKS (1000).\n",
      "Locator attempting to generate 8870 ticks ([-403.0, ..., 8466.0]), which exceeds Locator.MAXTICKS (1000).\n",
      "Locator attempting to generate 8870 ticks ([-403.0, ..., 8466.0]), which exceeds Locator.MAXTICKS (1000).\n",
      "Locator attempting to generate 8870 ticks ([-403.0, ..., 8466.0]), which exceeds Locator.MAXTICKS (1000).\n",
      "Locator attempting to generate 8870 ticks ([-403.0, ..., 8466.0]), which exceeds Locator.MAXTICKS (1000).\n",
      "Locator attempting to generate 8870 ticks ([-403.0, ..., 8466.0]), which exceeds Locator.MAXTICKS (1000).\n",
      "Locator attempting to generate 8870 ticks ([-403.0, ..., 8466.0]), which exceeds Locator.MAXTICKS (1000).\n",
      "Locator attempting to generate 8870 ticks ([-403.0, ..., 8466.0]), which exceeds Locator.MAXTICKS (1000).\n",
      "Locator attempting to generate 8870 ticks ([-403.0, ..., 8466.0]), which exceeds Locator.MAXTICKS (1000).\n",
      "Locator attempting to generate 8870 ticks ([-403.0, ..., 8466.0]), which exceeds Locator.MAXTICKS (1000).\n",
      "Locator attempting to generate 8870 ticks ([-403.0, ..., 8466.0]), which exceeds Locator.MAXTICKS (1000).\n",
      "Locator attempting to generate 8870 ticks ([-403.0, ..., 8466.0]), which exceeds Locator.MAXTICKS (1000).\n",
      "Locator attempting to generate 8870 ticks ([-403.0, ..., 8466.0]), which exceeds Locator.MAXTICKS (1000).\n",
      "Locator attempting to generate 8870 ticks ([-403.0, ..., 8466.0]), which exceeds Locator.MAXTICKS (1000).\n",
      "Locator attempting to generate 8870 ticks ([-403.0, ..., 8466.0]), which exceeds Locator.MAXTICKS (1000).\n",
      "Locator attempting to generate 8870 ticks ([-403.0, ..., 8466.0]), which exceeds Locator.MAXTICKS (1000).\n",
      "Locator attempting to generate 8870 ticks ([-403.0, ..., 8466.0]), which exceeds Locator.MAXTICKS (1000).\n",
      "Locator attempting to generate 8870 ticks ([-403.0, ..., 8466.0]), which exceeds Locator.MAXTICKS (1000).\n",
      "Locator attempting to generate 8870 ticks ([-403.0, ..., 8466.0]), which exceeds Locator.MAXTICKS (1000).\n",
      "Locator attempting to generate 8870 ticks ([-403.0, ..., 8466.0]), which exceeds Locator.MAXTICKS (1000).\n",
      "Locator attempting to generate 8870 ticks ([-403.0, ..., 8466.0]), which exceeds Locator.MAXTICKS (1000).\n"
     ]
    },
    {
     "data": {
      "image/png": "[encoded data removed]",
      "text/plain": [
       "<Figure size 2000x500 with 2 Axes>"
      ]
     },
     "metadata": {},
     "output_type": "display_data"
    }
   ],
   "source": [
    "fig, ax = plt.subplots()\n",
    "fig.set_figwidth(20)\n",
    "fig.set_figheight(5)\n",
    "plt.tick_params(\n",
    "    axis='x',          # changes apply to the x-axis\n",
    "    which='both',      # both major and minor ticks are affected\n",
    "    bottom=False,      # ticks along the bottom edge are off\n",
    "    top=False,         # ticks along the top edge are off\n",
    "    labelbottom=False) # labels along the bottom edge are off\n",
    "plt.gca().xaxis.set_major_formatter(mdates.DateFormatter('%m/%d/%Y'))\n",
    "plt.gca().xaxis.set_major_locator(mdates.DayLocator())\n",
    "# Plot linear sequence, and set tick labels to the same color\n",
    "ax.plot(SP500_adjclose['Date'],SP500_adjclose['Adj Close'],label = \"adj_close\")\n",
    "# ax.plot(SP500_adjclose['Date'],volatility['DDSM01USA066NWDB'],label = \"volatility\")\n",
    "ax.tick_params(axis='y', labelcolor='red')\n",
    "# plt.xticks([0,500])\n",
    "# plt.xticks([1], ['1'],\n",
    "#        rotation=20)\n",
    "# Generate a new Axes instance, on the twin-X axes (same position)\n",
    "ax2 = ax.twinx()\n",
    "\n",
    "# Plot exponential sequence, set scale to logarithmic and change tick color\n",
    "ax2.plot(SP500_adjclose['Date'],SP500_adjclose['USRECD'],label = \"USRECD\")\n",
    "# ax2.set_yscale('logit')\n",
    "ax2.tick_params(axis='y', labelcolor='green')"
   ]
  }
 ],
 "metadata": {
  "kernelspec": {
   "display_name": "Python 3 (ipykernel)",
   "language": "python",
   "name": "python3"
  },
  "language_info": {
   "codemirror_mode": {
    "name": "ipython",
    "version": 3
   },
   "file_extension": ".py",
   "mimetype": "text/x-python",
   "name": "python",
   "nbconvert_exporter": "python",
   "pygments_lexer": "ipython3",
   "version": "3.10.8"
  }
 },
 "nbformat": 4,
 "nbformat_minor": 1
}

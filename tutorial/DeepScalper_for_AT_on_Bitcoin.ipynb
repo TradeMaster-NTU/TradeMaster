{
 "cells": [
  {
   "cell_type": "markdown",
   "metadata": {},
   "source": [
    "# DeepScalper for Algorithm Trading\n",
    "This tutorial is to demonstrate an example of using DeepScalper to do Algorithms Trading on the Bitcoin"
   ]
  },
  {
   "cell_type": "markdown",
   "metadata": {},
   "source": [
    "## Set up Experinment Environment"
   ]
  },
  {
   "cell_type": "code",
   "execution_count": 1,
   "metadata": {},
   "outputs": [
    {
     "name": "stdout",
     "output_type": "stream",
     "text": [
      "Collecting package metadata (current_repodata.json): done\n",
      "Solving environment: \\ | ^C\n",
      "failed with initial frozen solve. Retrying with flexible solve.\n",
      "\n",
      "CondaError: KeyboardInterrupt\n",
      "\n"
     ]
    }
   ],
   "source": [
    "from IPython.display import clear_output\n",
    "import argparse\n",
    "import sys\n",
    "import numpy as np\n",
    "import torch\n",
    "from torch import nn\n",
    "import yaml\n",
    "import os\n",
    "import pandas as pd\n",
    "module_path = os.path.abspath(os.path.join('..'))\n",
    "sys.path.append(module_path)\n",
    "requirements_path=module_path+\"/requirements.txt\"\n",
    "print(requirements_path)\n",
    "command=\"pip install -r \"+requirements_path\n",
    "os.system(command)\n",
    "clear_output(wait=True)\n",
    "! conda install pytorch torchvision torchaudio cudatoolkit=11.3 -c pytorch\n",
    "clear_output(wait=True)"
   ]
  },
  {
   "cell_type": "markdown",
   "metadata": {},
   "source": [
    "## Download and Preprocess the Data\n",
    "The dataconfig part in TradeMaster is shared by all other parts, it is worth noticing that for algorithms trading, only the dataset BTC is supported.\n",
    "\n",
    "The following code will help to download the data in the folder [.data/data/BTC](https://github.com/qinmoelei/TradeMaster_reframe/tree/master/tutorial/data/data/BTC), where 4 files could be found: the whole data and train, valid and test data which will be used when we try to construct the RL environment for the agent"
   ]
  },
  {
   "cell_type": "code",
   "execution_count": 2,
   "metadata": {},
   "outputs": [],
   "source": [
    "from data.download_data import Dataconfig\n",
    "parser = argparse.ArgumentParser()\n",
    "\n",
    "parser.add_argument(\"--data_path\",\n",
    "                    type=str,\n",
    "                    default=\"./data/data/\",\n",
    "                    help=\"the path for storing the downloaded data\")\n",
    "#where we store the dataset\n",
    "parser.add_argument(\n",
    "    \"--output_config_path\",\n",
    "    type=str,\n",
    "    default=\"./config/output_config/data\",\n",
    "    help=\"the path for storing the generated config file for data\")\n",
    "# where we store the config file\n",
    "parser.add_argument(\n",
    "    \"--dataset\",\n",
    "    choices=[\"BTC\"],\n",
    "    default=\"BTC\",\n",
    "    help=\"the name of the dataset\",\n",
    ")\n",
    "parser.add_argument(\"--split_proportion\",\n",
    "                    type=list,\n",
    "                    default=[0.8, 0.1, 0.1],\n",
    "                    help=\"the split proportion for train, valid and test\")\n",
    "parser.add_argument(\n",
    "    \"--generate_config\",\n",
    "    type=bool,\n",
    "    default=False,\n",
    "    help=\n",
    "    \"determine whether to generate a yaml file to memorize the train valid and test'data's dict\"\n",
    ")\n",
    "parser.add_argument(\n",
    "    \"--input_config\",\n",
    "    type=bool,\n",
    "    default=False,\n",
    "    help=\n",
    "    \"determine whether to use a yaml file as the overall input of the Dataconfig, this is needed when have other format of dataset\"\n",
    ")\n",
    "\n",
    "parser.add_argument(\n",
    "    \"--input_config_path\",\n",
    "    type=str,\n",
    "    default=\"config/input_config/data/custom.yml\",\n",
    "    help=\n",
    "    \"determine the location of a yaml file used to initialize the Dataconfig Class\"\n",
    ")\n",
    "args = parser.parse_args(args=[])\n",
    "a = Dataconfig(args)\n"
   ]
  },
  {
   "cell_type": "markdown",
   "metadata": {},
   "source": [
    "the preprocessed data follows the following structure:\n"
   ]
  },
  {
   "cell_type": "code",
   "execution_count": 3,
   "metadata": {},
   "outputs": [
    {
     "data": {
      "text/html": [
       "<div>\n",
       "<style scoped>\n",
       "    .dataframe tbody tr th:only-of-type {\n",
       "        vertical-align: middle;\n",
       "    }\n",
       "\n",
       "    .dataframe tbody tr th {\n",
       "        vertical-align: top;\n",
       "    }\n",
       "\n",
       "    .dataframe thead th {\n",
       "        text-align: right;\n",
       "    }\n",
       "</style>\n",
       "<table border=\"1\" class=\"dataframe\">\n",
       "  <thead>\n",
       "    <tr style=\"text-align: right;\">\n",
       "      <th></th>\n",
       "      <th>tic</th>\n",
       "      <th>date</th>\n",
       "      <th>high</th>\n",
       "      <th>low</th>\n",
       "      <th>open</th>\n",
       "      <th>close</th>\n",
       "      <th>adjcp</th>\n",
       "      <th>zopen</th>\n",
       "      <th>zhigh</th>\n",
       "      <th>zlow</th>\n",
       "      <th>zadjcp</th>\n",
       "      <th>zclose</th>\n",
       "      <th>zd_5</th>\n",
       "      <th>zd_10</th>\n",
       "      <th>zd_15</th>\n",
       "      <th>zd_20</th>\n",
       "      <th>zd_25</th>\n",
       "      <th>zd_30</th>\n",
       "    </tr>\n",
       "  </thead>\n",
       "  <tbody>\n",
       "    <tr>\n",
       "      <th>0</th>\n",
       "      <td>BTC</td>\n",
       "      <td>2013-04-29 23:59:59</td>\n",
       "      <td>147.488007</td>\n",
       "      <td>134.000000</td>\n",
       "      <td>134.444000</td>\n",
       "      <td>144.539993</td>\n",
       "      <td>144.539993</td>\n",
       "      <td>-0.069849</td>\n",
       "      <td>0.020396</td>\n",
       "      <td>-0.072921</td>\n",
       "      <td>0.0</td>\n",
       "      <td>-0.038328</td>\n",
       "      <td>0.234762</td>\n",
       "      <td>0.029592</td>\n",
       "      <td>-0.012624</td>\n",
       "      <td>-0.053283</td>\n",
       "      <td>-0.066832</td>\n",
       "      <td>-0.066352</td>\n",
       "    </tr>\n",
       "    <tr>\n",
       "      <th>1</th>\n",
       "      <td>BTC</td>\n",
       "      <td>2013-04-30 23:59:59</td>\n",
       "      <td>146.929993</td>\n",
       "      <td>134.050003</td>\n",
       "      <td>144.000000</td>\n",
       "      <td>139.000000</td>\n",
       "      <td>139.000000</td>\n",
       "      <td>0.035971</td>\n",
       "      <td>0.057050</td>\n",
       "      <td>-0.035611</td>\n",
       "      <td>0.0</td>\n",
       "      <td>-0.038328</td>\n",
       "      <td>0.234762</td>\n",
       "      <td>0.029592</td>\n",
       "      <td>-0.012624</td>\n",
       "      <td>-0.053283</td>\n",
       "      <td>-0.066832</td>\n",
       "      <td>-0.066352</td>\n",
       "    </tr>\n",
       "    <tr>\n",
       "      <th>2</th>\n",
       "      <td>BTC</td>\n",
       "      <td>2013-05-01 23:59:59</td>\n",
       "      <td>139.889999</td>\n",
       "      <td>107.720001</td>\n",
       "      <td>139.000000</td>\n",
       "      <td>116.989998</td>\n",
       "      <td>116.989998</td>\n",
       "      <td>0.188136</td>\n",
       "      <td>0.195743</td>\n",
       "      <td>-0.079238</td>\n",
       "      <td>0.0</td>\n",
       "      <td>-0.158345</td>\n",
       "      <td>0.234762</td>\n",
       "      <td>0.029592</td>\n",
       "      <td>-0.012624</td>\n",
       "      <td>-0.053283</td>\n",
       "      <td>-0.066832</td>\n",
       "      <td>-0.066352</td>\n",
       "    </tr>\n",
       "    <tr>\n",
       "      <th>3</th>\n",
       "      <td>BTC</td>\n",
       "      <td>2013-05-02 23:59:59</td>\n",
       "      <td>125.599998</td>\n",
       "      <td>92.281898</td>\n",
       "      <td>116.379997</td>\n",
       "      <td>105.209999</td>\n",
       "      <td>105.209999</td>\n",
       "      <td>0.106169</td>\n",
       "      <td>0.193803</td>\n",
       "      <td>-0.122879</td>\n",
       "      <td>0.0</td>\n",
       "      <td>-0.100692</td>\n",
       "      <td>0.234762</td>\n",
       "      <td>0.029592</td>\n",
       "      <td>-0.012624</td>\n",
       "      <td>-0.053283</td>\n",
       "      <td>-0.066832</td>\n",
       "      <td>-0.066352</td>\n",
       "    </tr>\n",
       "    <tr>\n",
       "      <th>4</th>\n",
       "      <td>BTC</td>\n",
       "      <td>2013-05-03 23:59:59</td>\n",
       "      <td>108.127998</td>\n",
       "      <td>79.099998</td>\n",
       "      <td>106.250000</td>\n",
       "      <td>97.750000</td>\n",
       "      <td>97.750000</td>\n",
       "      <td>0.086957</td>\n",
       "      <td>0.106169</td>\n",
       "      <td>-0.190793</td>\n",
       "      <td>0.0</td>\n",
       "      <td>-0.070906</td>\n",
       "      <td>0.234762</td>\n",
       "      <td>0.029592</td>\n",
       "      <td>-0.012624</td>\n",
       "      <td>-0.053283</td>\n",
       "      <td>-0.066832</td>\n",
       "      <td>-0.066352</td>\n",
       "    </tr>\n",
       "  </tbody>\n",
       "</table>\n",
       "</div>"
      ],
      "text/plain": [
       "   tic                 date        high         low        open       close  \\\n",
       "0  BTC  2013-04-29 23:59:59  147.488007  134.000000  134.444000  144.539993   \n",
       "1  BTC  2013-04-30 23:59:59  146.929993  134.050003  144.000000  139.000000   \n",
       "2  BTC  2013-05-01 23:59:59  139.889999  107.720001  139.000000  116.989998   \n",
       "3  BTC  2013-05-02 23:59:59  125.599998   92.281898  116.379997  105.209999   \n",
       "4  BTC  2013-05-03 23:59:59  108.127998   79.099998  106.250000   97.750000   \n",
       "\n",
       "        adjcp     zopen     zhigh      zlow  zadjcp    zclose      zd_5  \\\n",
       "0  144.539993 -0.069849  0.020396 -0.072921     0.0 -0.038328  0.234762   \n",
       "1  139.000000  0.035971  0.057050 -0.035611     0.0 -0.038328  0.234762   \n",
       "2  116.989998  0.188136  0.195743 -0.079238     0.0 -0.158345  0.234762   \n",
       "3  105.209999  0.106169  0.193803 -0.122879     0.0 -0.100692  0.234762   \n",
       "4   97.750000  0.086957  0.106169 -0.190793     0.0 -0.070906  0.234762   \n",
       "\n",
       "      zd_10     zd_15     zd_20     zd_25     zd_30  \n",
       "0  0.029592 -0.012624 -0.053283 -0.066832 -0.066352  \n",
       "1  0.029592 -0.012624 -0.053283 -0.066832 -0.066352  \n",
       "2  0.029592 -0.012624 -0.053283 -0.066832 -0.066352  \n",
       "3  0.029592 -0.012624 -0.053283 -0.066832 -0.066352  \n",
       "4  0.029592 -0.012624 -0.053283 -0.066832 -0.066352  "
      ]
     },
     "execution_count": 3,
     "metadata": {},
     "output_type": "execute_result"
    }
   ],
   "source": [
    "data=pd.read_csv(\"data/data/BTC/BTC.csv\",index_col=0)\n",
    "data.head(5)"
   ]
  },
  {
   "cell_type": "markdown",
   "metadata": {},
   "source": [
    "the index column are corresponding to date one by one and in the algorithm trading case, there is only 1 tic. Besides OHLC, the data also has some normalized features"
   ]
  },
  {
   "cell_type": "markdown",
   "metadata": {},
   "source": [
    "## RL Enviornment Construction, Agent Training, Model Picking and Testing\n",
    "For the simplicity, we use the yaml file to store the configuration for the RL environment construction, which can be found [here](https://github.com/qinmoelei/TradeMaster_reframe/tree/master/tutorial/config/input_config/env/AT/DeepScalper)\n",
    "but first, let us import the package we might use"
   ]
  },
  {
   "cell_type": "code",
   "execution_count": 4,
   "metadata": {},
   "outputs": [],
   "source": [
    "from env.AT.AT import TradingEnv\n",
    "from agent.DeepScalper.model import Net\n",
    "from agent.DeepScalper.dqn import DQN"
   ]
  },
  {
   "cell_type": "markdown",
   "metadata": {},
   "source": [
    "The rest parameter of the algorithms could be modified through the args displayed followed.\n",
    "\n",
    "You can find the trained model and test result [here](https://github.com/qinmoelei/TradeMaster_reframe/tree/master/tutorial/result/AT)."
   ]
  },
  {
   "cell_type": "code",
   "execution_count": 5,
   "metadata": {},
   "outputs": [],
   "source": [
    "parser = argparse.ArgumentParser()\n",
    "parser.add_argument(\"--hidden_nodes\",\n",
    "                    type=int,\n",
    "                    default=256,\n",
    "                    help=\"the number of transcation we learn at a time\")\n",
    "parser.add_argument(\"--batch_size\",\n",
    "                    type=int,\n",
    "                    default=32,\n",
    "                    help=\"the number of transcation we learn at a time\")\n",
    "parser.add_argument(\"--lr\", type=float, default=1e-3, help=\"the learning rate\")\n",
    "parser.add_argument(\"--epsilon\",\n",
    "                    type=float,\n",
    "                    default=0.9,\n",
    "                    help=\"the learning rate\")\n",
    "parser.add_argument(\"--gamma\",\n",
    "                    type=float,\n",
    "                    default=0.9,\n",
    "                    help=\"the learning rate\")\n",
    "parser.add_argument(\n",
    "    \"--target_freq\",\n",
    "    type=int,\n",
    "    default=50,\n",
    "    help=\"the number of updates before the eval could be as same as the target\"\n",
    ")\n",
    "parser.add_argument(\n",
    "    \"--memory_capacity\",\n",
    "    type=int,\n",
    "    default=2000,\n",
    "    help=\"the number of updates before the eval could be as same as the target\"\n",
    ")\n",
    "parser.add_argument(\"--train_env_config\",\n",
    "                    type=str,\n",
    "                    default=\"config/input_config/env/AT/DeepScalper/train.yml\",\n",
    "                    help=\"the dict for storing env config\")\n",
    "parser.add_argument(\"--valid_env_config\",\n",
    "                    type=str,\n",
    "                    default=\"config/input_config/env/AT/DeepScalper/valid.yml\",\n",
    "                    help=\"the dict for storing env config\")\n",
    "parser.add_argument(\"--test_env_config\",\n",
    "                    type=str,\n",
    "                    default=\"config/input_config/env/AT/DeepScalper/test.yml\",\n",
    "                    help=\"the dict for storing env config\")\n",
    "parser.add_argument(\n",
    "    \"--future_loss_weights\",\n",
    "    type=float,\n",
    "    default=0.2,\n",
    "    help=\"the weights for future loss\",\n",
    ")\n",
    "parser.add_argument(\n",
    "    \"--model_path\",\n",
    "    type=str,\n",
    "    default=\"result/AT/trained_model\",\n",
    "    help=\"the path for storing the trained model\",\n",
    ")\n",
    "parser.add_argument(\n",
    "    \"--result_path\",\n",
    "    type=str,\n",
    "    default=\"result/AT/test_result\",\n",
    "    help=\"the path for storing the test result\",\n",
    ")\n",
    "args = parser.parse_args(args=[])\n"
   ]
  },
  {
   "cell_type": "code",
   "execution_count": 6,
   "metadata": {},
   "outputs": [
    {
     "name": "stdout",
     "output_type": "stream",
     "text": [
      "=================================\n",
      "the profit margin is 225.332916000391 %\n",
      "the sharpe ratio is 0.8607794104103924\n",
      "the Volatility is 15405.353796230673\n",
      "the max drawdown is 0.8349657199744575\n",
      "the Calmar Ratio is 269987.60271368525\n",
      "the Sortino Ratio is 1.0943025116967398\n",
      "=================================\n"
     ]
    }
   ],
   "source": [
    "def build_agent():\n",
    "    a = DQN(args)\n",
    "    return a\n",
    "\n",
    "\n",
    "def experiment(a: DQN):\n",
    "    a.train_with_valid(10)\n",
    "    clear_output(wait=True)\n",
    "    a.test()\n",
    "\n",
    "\n",
    "def main():\n",
    "    a = build_agent()\n",
    "    experiment(a)\n",
    "\n",
    "main()"
   ]
  },
  {
   "cell_type": "markdown",
   "metadata": {},
   "source": [
    "Here is the process:\n",
    "\n",
    "We trained model on the train environment for 20 epochs, then when each epoch ends, we use the mdoel to do trading on the valid environment. We use sharpe-ratio as the indicator and choose the best model among 20 models in the valid environment and use the model to do trading in the test environment\n",
    "\n",
    "Here is what the test result look like:\n",
    "It contains the total assets and daily return.The difference lies in the transcation fee."
   ]
  },
  {
   "cell_type": "code",
   "execution_count": 7,
   "metadata": {},
   "outputs": [
    {
     "data": {
      "text/html": [
       "<div>\n",
       "<style scoped>\n",
       "    .dataframe tbody tr th:only-of-type {\n",
       "        vertical-align: middle;\n",
       "    }\n",
       "\n",
       "    .dataframe tbody tr th {\n",
       "        vertical-align: top;\n",
       "    }\n",
       "\n",
       "    .dataframe thead th {\n",
       "        text-align: right;\n",
       "    }\n",
       "</style>\n",
       "<table border=\"1\" class=\"dataframe\">\n",
       "  <thead>\n",
       "    <tr style=\"text-align: right;\">\n",
       "      <th></th>\n",
       "      <th>daily_return</th>\n",
       "      <th>total assets</th>\n",
       "    </tr>\n",
       "  </thead>\n",
       "  <tbody>\n",
       "    <tr>\n",
       "      <th>0</th>\n",
       "      <td>0.000000</td>\n",
       "      <td>100000.000000</td>\n",
       "    </tr>\n",
       "    <tr>\n",
       "      <th>1</th>\n",
       "      <td>116.113553</td>\n",
       "      <td>100105.422024</td>\n",
       "    </tr>\n",
       "    <tr>\n",
       "      <th>2</th>\n",
       "      <td>355.907811</td>\n",
       "      <td>100450.522076</td>\n",
       "    </tr>\n",
       "    <tr>\n",
       "      <th>3</th>\n",
       "      <td>-77.744929</td>\n",
       "      <td>100361.791257</td>\n",
       "    </tr>\n",
       "    <tr>\n",
       "      <th>4</th>\n",
       "      <td>-17.616443</td>\n",
       "      <td>100333.214864</td>\n",
       "    </tr>\n",
       "  </tbody>\n",
       "</table>\n",
       "</div>"
      ],
      "text/plain": [
       "   daily_return   total assets\n",
       "0      0.000000  100000.000000\n",
       "1    116.113553  100105.422024\n",
       "2    355.907811  100450.522076\n",
       "3    -77.744929  100361.791257\n",
       "4    -17.616443  100333.214864"
      ]
     },
     "execution_count": 7,
     "metadata": {},
     "output_type": "execute_result"
    }
   ],
   "source": [
    "test_result=pd.read_csv(\"result/AT/test_result/result.csv\",index_col=0)\n",
    "test_result.head(5)"
   ]
  },
  {
   "cell_type": "code",
   "execution_count": 9,
   "metadata": {},
   "outputs": [
    {
     "data": {
      "image/png": "[encoded data removed]",
      "text/plain": [
       "<Figure size 432x288 with 1 Axes>"
      ]
     },
     "metadata": {
      "needs_background": "light"
     },
     "output_type": "display_data"
    }
   ],
   "source": [
    "from matplotlib import pyplot as plt\n",
    "x = range(289)\n",
    "y = test_result[\"total assets\"].tolist()\n",
    "plt.plot(x, y)  \n",
    "plt.show()"
   ]
  }
 ],
 "metadata": {
  "kernelspec": {
   "display_name": "Python 3.7.11 ('FinRL')",
   "language": "python",
   "name": "python3"
  },
  "language_info": {
   "codemirror_mode": {
    "name": "ipython",
    "version": 3
   },
   "file_extension": ".py",
   "mimetype": "text/x-python",
   "name": "python",
   "nbconvert_exporter": "python",
   "pygments_lexer": "ipython3",
   "version": "3.7.11"
  },
  "orig_nbformat": 4,
  "vscode": {
   "interpreter": {
    "hash": "05c7ecc4e09568b16608f47442989c4eaf2bc45e71bc9e50b36593a814f6f101"
   }
  }
 },
 "nbformat": 4,
 "nbformat_minor": 2
}

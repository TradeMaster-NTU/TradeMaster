{
 "cells": [
  {
   "cell_type": "code",
   "execution_count": 1,
   "metadata": {},
   "outputs": [
    {
     "data": {
      "text/plain": [
       "0"
      ]
     },
     "execution_count": 1,
     "metadata": {},
     "output_type": "execute_result"
    }
   ],
   "source": [
    "int(0.1)"
   ]
  },
  {
   "cell_type": "code",
   "execution_count": 2,
   "metadata": {},
   "outputs": [
    {
     "data": {
      "text/plain": [
       "0"
      ]
     },
     "execution_count": 2,
     "metadata": {},
     "output_type": "execute_result"
    }
   ],
   "source": [
    "int(0.9)"
   ]
  },
  {
   "cell_type": "code",
   "execution_count": 3,
   "metadata": {},
   "outputs": [],
   "source": [
    "import pandas as pd\n",
    "import numpy as np\n",
    "df=pd.read_csv(\"/home/sunshuo/qml/TradeMaster_reframe/experiment_result/data/s_train.csv\",index_col=0)"
   ]
  },
  {
   "cell_type": "code",
   "execution_count": 4,
   "metadata": {},
   "outputs": [],
   "source": [
    "fornum_day=10\n",
    "backward_day=10"
   ]
  },
  {
   "cell_type": "code",
   "execution_count": 5,
   "metadata": {},
   "outputs": [],
   "source": [
    "data=df.iloc[0:backward_day, :]\n"
   ]
  },
  {
   "cell_type": "code",
   "execution_count": 6,
   "metadata": {},
   "outputs": [
    {
     "data": {
      "text/plain": [
       "113.56600189208984"
      ]
     },
     "execution_count": 6,
     "metadata": {},
     "output_type": "execute_result"
    }
   ],
   "source": [
    "data.iloc[-1,:].close"
   ]
  },
  {
   "cell_type": "code",
   "execution_count": 7,
   "metadata": {},
   "outputs": [
    {
     "data": {
      "text/html": [
       "<div>\n",
       "<style scoped>\n",
       "    .dataframe tbody tr th:only-of-type {\n",
       "        vertical-align: middle;\n",
       "    }\n",
       "\n",
       "    .dataframe tbody tr th {\n",
       "        vertical-align: top;\n",
       "    }\n",
       "\n",
       "    .dataframe thead th {\n",
       "        text-align: right;\n",
       "    }\n",
       "</style>\n",
       "<table border=\"1\" class=\"dataframe\">\n",
       "  <thead>\n",
       "    <tr style=\"text-align: right;\">\n",
       "      <th></th>\n",
       "      <th>tic</th>\n",
       "      <th>date</th>\n",
       "      <th>high</th>\n",
       "      <th>low</th>\n",
       "      <th>open</th>\n",
       "      <th>close</th>\n",
       "      <th>adjcp</th>\n",
       "      <th>zopen</th>\n",
       "      <th>zhigh</th>\n",
       "      <th>zlow</th>\n",
       "      <th>zadjcp</th>\n",
       "      <th>zclose</th>\n",
       "      <th>zd_5</th>\n",
       "      <th>zd_10</th>\n",
       "      <th>zd_15</th>\n",
       "      <th>zd_20</th>\n",
       "      <th>zd_25</th>\n",
       "      <th>zd_30</th>\n",
       "    </tr>\n",
       "  </thead>\n",
       "  <tbody>\n",
       "    <tr>\n",
       "      <th>0</th>\n",
       "      <td>BTC</td>\n",
       "      <td>2013-04-29 23:59:59</td>\n",
       "      <td>147.488007</td>\n",
       "      <td>134.000000</td>\n",
       "      <td>134.444000</td>\n",
       "      <td>144.539993</td>\n",
       "      <td>144.539993</td>\n",
       "      <td>-0.069849</td>\n",
       "      <td>0.020396</td>\n",
       "      <td>-0.072921</td>\n",
       "      <td>0</td>\n",
       "      <td>-0.038328</td>\n",
       "      <td>0.234762</td>\n",
       "      <td>0.029592</td>\n",
       "      <td>-0.012624</td>\n",
       "      <td>-0.053283</td>\n",
       "      <td>-0.066832</td>\n",
       "      <td>-0.066352</td>\n",
       "    </tr>\n",
       "    <tr>\n",
       "      <th>1</th>\n",
       "      <td>BTC</td>\n",
       "      <td>2013-04-30 23:59:59</td>\n",
       "      <td>146.929993</td>\n",
       "      <td>134.050003</td>\n",
       "      <td>144.000000</td>\n",
       "      <td>139.000000</td>\n",
       "      <td>139.000000</td>\n",
       "      <td>0.035971</td>\n",
       "      <td>0.057050</td>\n",
       "      <td>-0.035611</td>\n",
       "      <td>0</td>\n",
       "      <td>-0.038328</td>\n",
       "      <td>0.234762</td>\n",
       "      <td>0.029592</td>\n",
       "      <td>-0.012624</td>\n",
       "      <td>-0.053283</td>\n",
       "      <td>-0.066832</td>\n",
       "      <td>-0.066352</td>\n",
       "    </tr>\n",
       "    <tr>\n",
       "      <th>2</th>\n",
       "      <td>BTC</td>\n",
       "      <td>2013-05-01 23:59:59</td>\n",
       "      <td>139.889999</td>\n",
       "      <td>107.720001</td>\n",
       "      <td>139.000000</td>\n",
       "      <td>116.989998</td>\n",
       "      <td>116.989998</td>\n",
       "      <td>0.188136</td>\n",
       "      <td>0.195743</td>\n",
       "      <td>-0.079238</td>\n",
       "      <td>0</td>\n",
       "      <td>-0.158345</td>\n",
       "      <td>0.234762</td>\n",
       "      <td>0.029592</td>\n",
       "      <td>-0.012624</td>\n",
       "      <td>-0.053283</td>\n",
       "      <td>-0.066832</td>\n",
       "      <td>-0.066352</td>\n",
       "    </tr>\n",
       "    <tr>\n",
       "      <th>3</th>\n",
       "      <td>BTC</td>\n",
       "      <td>2013-05-02 23:59:59</td>\n",
       "      <td>125.599998</td>\n",
       "      <td>92.281898</td>\n",
       "      <td>116.379997</td>\n",
       "      <td>105.209999</td>\n",
       "      <td>105.209999</td>\n",
       "      <td>0.106169</td>\n",
       "      <td>0.193803</td>\n",
       "      <td>-0.122879</td>\n",
       "      <td>0</td>\n",
       "      <td>-0.100692</td>\n",
       "      <td>0.234762</td>\n",
       "      <td>0.029592</td>\n",
       "      <td>-0.012624</td>\n",
       "      <td>-0.053283</td>\n",
       "      <td>-0.066832</td>\n",
       "      <td>-0.066352</td>\n",
       "    </tr>\n",
       "    <tr>\n",
       "      <th>4</th>\n",
       "      <td>BTC</td>\n",
       "      <td>2013-05-03 23:59:59</td>\n",
       "      <td>108.127998</td>\n",
       "      <td>79.099998</td>\n",
       "      <td>106.250000</td>\n",
       "      <td>97.750000</td>\n",
       "      <td>97.750000</td>\n",
       "      <td>0.086957</td>\n",
       "      <td>0.106169</td>\n",
       "      <td>-0.190793</td>\n",
       "      <td>0</td>\n",
       "      <td>-0.070906</td>\n",
       "      <td>0.234762</td>\n",
       "      <td>0.029592</td>\n",
       "      <td>-0.012624</td>\n",
       "      <td>-0.053283</td>\n",
       "      <td>-0.066832</td>\n",
       "      <td>-0.066352</td>\n",
       "    </tr>\n",
       "    <tr>\n",
       "      <th>5</th>\n",
       "      <td>BTC</td>\n",
       "      <td>2013-05-04 23:59:59</td>\n",
       "      <td>115.000000</td>\n",
       "      <td>92.500000</td>\n",
       "      <td>98.099998</td>\n",
       "      <td>112.500000</td>\n",
       "      <td>112.500000</td>\n",
       "      <td>-0.128000</td>\n",
       "      <td>0.022222</td>\n",
       "      <td>-0.177778</td>\n",
       "      <td>0</td>\n",
       "      <td>0.150895</td>\n",
       "      <td>0.015911</td>\n",
       "      <td>0.029592</td>\n",
       "      <td>-0.012624</td>\n",
       "      <td>-0.053283</td>\n",
       "      <td>-0.066832</td>\n",
       "      <td>-0.066352</td>\n",
       "    </tr>\n",
       "    <tr>\n",
       "      <th>6</th>\n",
       "      <td>BTC</td>\n",
       "      <td>2013-05-05 23:59:59</td>\n",
       "      <td>118.800003</td>\n",
       "      <td>107.142998</td>\n",
       "      <td>112.900002</td>\n",
       "      <td>115.910004</td>\n",
       "      <td>115.910004</td>\n",
       "      <td>-0.025968</td>\n",
       "      <td>0.024933</td>\n",
       "      <td>-0.075636</td>\n",
       "      <td>0</td>\n",
       "      <td>0.030311</td>\n",
       "      <td>-0.053818</td>\n",
       "      <td>0.029592</td>\n",
       "      <td>-0.012624</td>\n",
       "      <td>-0.053283</td>\n",
       "      <td>-0.066832</td>\n",
       "      <td>-0.066352</td>\n",
       "    </tr>\n",
       "    <tr>\n",
       "      <th>7</th>\n",
       "      <td>BTC</td>\n",
       "      <td>2013-05-06 23:59:59</td>\n",
       "      <td>124.663002</td>\n",
       "      <td>106.639999</td>\n",
       "      <td>115.980003</td>\n",
       "      <td>112.300003</td>\n",
       "      <td>112.300003</td>\n",
       "      <td>0.032769</td>\n",
       "      <td>0.110089</td>\n",
       "      <td>-0.050401</td>\n",
       "      <td>0</td>\n",
       "      <td>-0.031145</td>\n",
       "      <td>-0.031754</td>\n",
       "      <td>0.029592</td>\n",
       "      <td>-0.012624</td>\n",
       "      <td>-0.053283</td>\n",
       "      <td>-0.066832</td>\n",
       "      <td>-0.066352</td>\n",
       "    </tr>\n",
       "    <tr>\n",
       "      <th>8</th>\n",
       "      <td>BTC</td>\n",
       "      <td>2013-05-07 23:59:59</td>\n",
       "      <td>113.444000</td>\n",
       "      <td>97.699997</td>\n",
       "      <td>112.250000</td>\n",
       "      <td>111.500000</td>\n",
       "      <td>111.500000</td>\n",
       "      <td>0.006726</td>\n",
       "      <td>0.017435</td>\n",
       "      <td>-0.123767</td>\n",
       "      <td>0</td>\n",
       "      <td>-0.007124</td>\n",
       "      <td>-0.013525</td>\n",
       "      <td>0.029592</td>\n",
       "      <td>-0.012624</td>\n",
       "      <td>-0.053283</td>\n",
       "      <td>-0.066832</td>\n",
       "      <td>-0.066352</td>\n",
       "    </tr>\n",
       "    <tr>\n",
       "      <th>9</th>\n",
       "      <td>BTC</td>\n",
       "      <td>2013-05-08 23:59:59</td>\n",
       "      <td>115.779999</td>\n",
       "      <td>109.599998</td>\n",
       "      <td>109.599998</td>\n",
       "      <td>113.566002</td>\n",
       "      <td>113.566002</td>\n",
       "      <td>-0.034922</td>\n",
       "      <td>0.019495</td>\n",
       "      <td>-0.034922</td>\n",
       "      <td>0</td>\n",
       "      <td>0.018529</td>\n",
       "      <td>-0.003617</td>\n",
       "      <td>0.029592</td>\n",
       "      <td>-0.012624</td>\n",
       "      <td>-0.053283</td>\n",
       "      <td>-0.066832</td>\n",
       "      <td>-0.066352</td>\n",
       "    </tr>\n",
       "  </tbody>\n",
       "</table>\n",
       "</div>"
      ],
      "text/plain": [
       "   tic                 date        high         low        open       close  \\\n",
       "0  BTC  2013-04-29 23:59:59  147.488007  134.000000  134.444000  144.539993   \n",
       "1  BTC  2013-04-30 23:59:59  146.929993  134.050003  144.000000  139.000000   \n",
       "2  BTC  2013-05-01 23:59:59  139.889999  107.720001  139.000000  116.989998   \n",
       "3  BTC  2013-05-02 23:59:59  125.599998   92.281898  116.379997  105.209999   \n",
       "4  BTC  2013-05-03 23:59:59  108.127998   79.099998  106.250000   97.750000   \n",
       "5  BTC  2013-05-04 23:59:59  115.000000   92.500000   98.099998  112.500000   \n",
       "6  BTC  2013-05-05 23:59:59  118.800003  107.142998  112.900002  115.910004   \n",
       "7  BTC  2013-05-06 23:59:59  124.663002  106.639999  115.980003  112.300003   \n",
       "8  BTC  2013-05-07 23:59:59  113.444000   97.699997  112.250000  111.500000   \n",
       "9  BTC  2013-05-08 23:59:59  115.779999  109.599998  109.599998  113.566002   \n",
       "\n",
       "        adjcp     zopen     zhigh      zlow  zadjcp    zclose      zd_5  \\\n",
       "0  144.539993 -0.069849  0.020396 -0.072921       0 -0.038328  0.234762   \n",
       "1  139.000000  0.035971  0.057050 -0.035611       0 -0.038328  0.234762   \n",
       "2  116.989998  0.188136  0.195743 -0.079238       0 -0.158345  0.234762   \n",
       "3  105.209999  0.106169  0.193803 -0.122879       0 -0.100692  0.234762   \n",
       "4   97.750000  0.086957  0.106169 -0.190793       0 -0.070906  0.234762   \n",
       "5  112.500000 -0.128000  0.022222 -0.177778       0  0.150895  0.015911   \n",
       "6  115.910004 -0.025968  0.024933 -0.075636       0  0.030311 -0.053818   \n",
       "7  112.300003  0.032769  0.110089 -0.050401       0 -0.031145 -0.031754   \n",
       "8  111.500000  0.006726  0.017435 -0.123767       0 -0.007124 -0.013525   \n",
       "9  113.566002 -0.034922  0.019495 -0.034922       0  0.018529 -0.003617   \n",
       "\n",
       "      zd_10     zd_15     zd_20     zd_25     zd_30  \n",
       "0  0.029592 -0.012624 -0.053283 -0.066832 -0.066352  \n",
       "1  0.029592 -0.012624 -0.053283 -0.066832 -0.066352  \n",
       "2  0.029592 -0.012624 -0.053283 -0.066832 -0.066352  \n",
       "3  0.029592 -0.012624 -0.053283 -0.066832 -0.066352  \n",
       "4  0.029592 -0.012624 -0.053283 -0.066832 -0.066352  \n",
       "5  0.029592 -0.012624 -0.053283 -0.066832 -0.066352  \n",
       "6  0.029592 -0.012624 -0.053283 -0.066832 -0.066352  \n",
       "7  0.029592 -0.012624 -0.053283 -0.066832 -0.066352  \n",
       "8  0.029592 -0.012624 -0.053283 -0.066832 -0.066352  \n",
       "9  0.029592 -0.012624 -0.053283 -0.066832 -0.066352  "
      ]
     },
     "execution_count": 7,
     "metadata": {},
     "output_type": "execute_result"
    }
   ],
   "source": [
    "data"
   ]
  },
  {
   "cell_type": "code",
   "execution_count": 8,
   "metadata": {},
   "outputs": [],
   "source": [
    "close_price_list=data.close.tolist()"
   ]
  },
  {
   "cell_type": "code",
   "execution_count": 9,
   "metadata": {},
   "outputs": [
    {
     "data": {
      "text/plain": [
       "[-0.038328445713746384,\n",
       " -0.15834533910957183,\n",
       " -0.10069235827334766,\n",
       " -0.07090579934786478,\n",
       " 0.15089514066496168,\n",
       " 0.03031114366319443,\n",
       " -0.031144858047586044,\n",
       " -0.007123802582526095,\n",
       " 0.018529164951478494]"
      ]
     },
     "execution_count": 9,
     "metadata": {},
     "output_type": "execute_result"
    }
   ],
   "source": [
    "labels=[]\n",
    "for i in range(len(close_price_list)-1):\n",
    "    new_price=close_price_list[i+1]\n",
    "    old_price=close_price_list[i]\n",
    "    return_rate=new_price/old_price-1\n",
    "    labels.append(return_rate)\n",
    "labels"
   ]
  },
  {
   "cell_type": "code",
   "execution_count": null,
   "metadata": {},
   "outputs": [],
   "source": []
  },
  {
   "cell_type": "code",
   "execution_count": 53,
   "metadata": {},
   "outputs": [
    {
     "data": {
      "text/plain": [
       "13.555568901363369"
      ]
     },
     "execution_count": 53,
     "metadata": {},
     "output_type": "execute_result"
    }
   ],
   "source": [
    "np.std(data.close)"
   ]
  },
  {
   "cell_type": "code",
   "execution_count": 52,
   "metadata": {},
   "outputs": [
    {
     "data": {
      "text/plain": [
       "0    144.539993\n",
       "1    139.000000\n",
       "2    116.989998\n",
       "3    105.209999\n",
       "4     97.750000\n",
       "5    112.500000\n",
       "6    115.910004\n",
       "7    112.300003\n",
       "8    111.500000\n",
       "9    113.566002\n",
       "Name: close, dtype: float64"
      ]
     },
     "execution_count": 52,
     "metadata": {},
     "output_type": "execute_result"
    }
   ],
   "source": [
    "data.close"
   ]
  },
  {
   "cell_type": "code",
   "execution_count": null,
   "metadata": {},
   "outputs": [],
   "source": []
  },
  {
   "cell_type": "code",
   "execution_count": 42,
   "metadata": {},
   "outputs": [
    {
     "data": {
      "text/plain": [
       "'2013-05-08 23:59:59'"
      ]
     },
     "execution_count": 42,
     "metadata": {},
     "output_type": "execute_result"
    }
   ],
   "source": [
    "data.date.unique()[-1]"
   ]
  },
  {
   "cell_type": "code",
   "execution_count": 29,
   "metadata": {},
   "outputs": [
    {
     "data": {
      "text/plain": [
       "0.2"
      ]
     },
     "execution_count": 29,
     "metadata": {},
     "output_type": "execute_result"
    }
   ],
   "source": [
    "np.abs(-0.2)"
   ]
  },
  {
   "cell_type": "code",
   "execution_count": 30,
   "metadata": {},
   "outputs": [
    {
     "data": {
      "text/plain": [
       "0"
      ]
     },
     "execution_count": 30,
     "metadata": {},
     "output_type": "execute_result"
    }
   ],
   "source": [
    "int(-0.1)"
   ]
  },
  {
   "cell_type": "code",
   "execution_count": 31,
   "metadata": {},
   "outputs": [
    {
     "data": {
      "text/plain": [
       "-1"
      ]
     },
     "execution_count": 31,
     "metadata": {},
     "output_type": "execute_result"
    }
   ],
   "source": [
    "int(-1.1)"
   ]
  },
  {
   "cell_type": "code",
   "execution_count": 32,
   "metadata": {},
   "outputs": [
    {
     "data": {
      "text/plain": [
       "[1, 2, 3, 1, 2]"
      ]
     },
     "execution_count": 32,
     "metadata": {},
     "output_type": "execute_result"
    }
   ],
   "source": [
    "[1,2,3]+[1,2]"
   ]
  },
  {
   "cell_type": "code",
   "execution_count": 33,
   "metadata": {},
   "outputs": [
    {
     "data": {
      "text/plain": [
       "tic                       BTC\n",
       "date      2013-05-09 23:59:59\n",
       "high               113.459999\n",
       "low                109.260002\n",
       "open               113.199997\n",
       "close              112.669998\n",
       "adjcp              112.669998\n",
       "zopen                0.004704\n",
       "zhigh                0.007012\n",
       "zlow                -0.030265\n",
       "zadjcp                      0\n",
       "zclose               -0.00789\n",
       "zd_5                 0.004608\n",
       "zd_10                0.009493\n",
       "zd_15               -0.012624\n",
       "zd_20               -0.053283\n",
       "zd_25               -0.066832\n",
       "zd_30               -0.066352\n",
       "Name: 10, dtype: object"
      ]
     },
     "execution_count": 33,
     "metadata": {},
     "output_type": "execute_result"
    }
   ],
   "source": [
    "df.iloc[10,:]"
   ]
  },
  {
   "cell_type": "code",
   "execution_count": 34,
   "metadata": {},
   "outputs": [
    {
     "data": {
      "text/plain": [
       "tic                       BTC\n",
       "date      2013-05-09 23:59:59\n",
       "high               113.459999\n",
       "low                109.260002\n",
       "open               113.199997\n",
       "close              112.669998\n",
       "adjcp              112.669998\n",
       "zopen                0.004704\n",
       "zhigh                0.007012\n",
       "zlow                -0.030265\n",
       "zadjcp                      0\n",
       "zclose               -0.00789\n",
       "zd_5                 0.004608\n",
       "zd_10                0.009493\n",
       "zd_15               -0.012624\n",
       "zd_20               -0.053283\n",
       "zd_25               -0.066832\n",
       "zd_30               -0.066352\n",
       "Name: 10, dtype: object"
      ]
     },
     "execution_count": 34,
     "metadata": {},
     "output_type": "execute_result"
    }
   ],
   "source": [
    "df.loc[10,:]"
   ]
  },
  {
   "cell_type": "code",
   "execution_count": 3,
   "metadata": {},
   "outputs": [
    {
     "data": {
      "text/plain": [
       "array([4])"
      ]
     },
     "execution_count": 3,
     "metadata": {},
     "output_type": "execute_result"
    }
   ],
   "source": [
    "import torch\n",
    "torch.max(torch.tensor([[1,2,3,4,5]]),\n",
    "                1)[1].data.numpy() "
   ]
  },
  {
   "cell_type": "code",
   "execution_count": null,
   "metadata": {},
   "outputs": [],
   "source": []
  },
  {
   "cell_type": "code",
   "execution_count": null,
   "metadata": {},
   "outputs": [],
   "source": []
  },
  {
   "cell_type": "code",
   "execution_count": null,
   "metadata": {},
   "outputs": [],
   "source": []
  },
  {
   "cell_type": "code",
   "execution_count": null,
   "metadata": {},
   "outputs": [],
   "source": []
  },
  {
   "cell_type": "code",
   "execution_count": null,
   "metadata": {},
   "outputs": [],
   "source": []
  },
  {
   "cell_type": "code",
   "execution_count": null,
   "metadata": {},
   "outputs": [],
   "source": []
  },
  {
   "cell_type": "code",
   "execution_count": null,
   "metadata": {},
   "outputs": [],
   "source": []
  },
  {
   "cell_type": "code",
   "execution_count": null,
   "metadata": {},
   "outputs": [],
   "source": []
  },
  {
   "cell_type": "code",
   "execution_count": null,
   "metadata": {},
   "outputs": [],
   "source": []
  },
  {
   "cell_type": "code",
   "execution_count": null,
   "metadata": {},
   "outputs": [],
   "source": []
  },
  {
   "cell_type": "code",
   "execution_count": null,
   "metadata": {},
   "outputs": [],
   "source": []
  },
  {
   "cell_type": "code",
   "execution_count": null,
   "metadata": {},
   "outputs": [],
   "source": []
  },
  {
   "cell_type": "code",
   "execution_count": null,
   "metadata": {},
   "outputs": [],
   "source": []
  },
  {
   "cell_type": "code",
   "execution_count": null,
   "metadata": {},
   "outputs": [],
   "source": []
  },
  {
   "cell_type": "code",
   "execution_count": null,
   "metadata": {},
   "outputs": [],
   "source": []
  },
  {
   "cell_type": "code",
   "execution_count": null,
   "metadata": {},
   "outputs": [],
   "source": []
  },
  {
   "cell_type": "code",
   "execution_count": null,
   "metadata": {},
   "outputs": [],
   "source": []
  },
  {
   "cell_type": "code",
   "execution_count": null,
   "metadata": {},
   "outputs": [],
   "source": []
  },
  {
   "cell_type": "code",
   "execution_count": null,
   "metadata": {},
   "outputs": [],
   "source": []
  },
  {
   "cell_type": "code",
   "execution_count": null,
   "metadata": {},
   "outputs": [],
   "source": []
  }
 ],
 "metadata": {
  "kernelspec": {
   "display_name": "Python 3.7.13 ('TradeMaster')",
   "language": "python",
   "name": "python3"
  },
  "language_info": {
   "codemirror_mode": {
    "name": "ipython",
    "version": 3
   },
   "file_extension": ".py",
   "mimetype": "text/x-python",
   "name": "python",
   "nbconvert_exporter": "python",
   "pygments_lexer": "ipython3",
   "version": "3.7.13"
  },
  "orig_nbformat": 4,
  "vscode": {
   "interpreter": {
    "hash": "a1f97403911abd3f02553c8f2b0c54537fddc7efadd9f5d3e31784db6e40c347"
   }
  }
 },
 "nbformat": 4,
 "nbformat_minor": 2
}
